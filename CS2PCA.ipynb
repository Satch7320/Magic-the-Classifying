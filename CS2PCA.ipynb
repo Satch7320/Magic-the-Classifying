{
 "cells": [
  {
   "cell_type": "code",
   "execution_count": 1,
   "metadata": {},
   "outputs": [],
   "source": [
    "import numpy as np\n",
    "import pandas as pd\n",
    "import matplotlib.pyplot as plt\n",
    "\n",
    "from sklearn.feature_extraction.text import CountVectorizer, TfidfVectorizer\n",
    "from sklearn.decomposition import PCA, NMF\n",
    "from sklearn.model_selection import train_test_split as tts\n",
    "\n",
    "import tensorflow as tf"
   ]
  },
  {
   "cell_type": "code",
   "execution_count": 2,
   "metadata": {},
   "outputs": [],
   "source": [
    "data = pd.read_csv('data/en_cards.csv')"
   ]
  },
  {
   "cell_type": "code",
   "execution_count": 3,
   "metadata": {},
   "outputs": [
    {
     "data": {
      "text/html": [
       "<div>\n",
       "<style scoped>\n",
       "    .dataframe tbody tr th:only-of-type {\n",
       "        vertical-align: middle;\n",
       "    }\n",
       "\n",
       "    .dataframe tbody tr th {\n",
       "        vertical-align: top;\n",
       "    }\n",
       "\n",
       "    .dataframe thead th {\n",
       "        text-align: right;\n",
       "    }\n",
       "</style>\n",
       "<table border=\"1\" class=\"dataframe\">\n",
       "  <thead>\n",
       "    <tr style=\"text-align: right;\">\n",
       "      <th></th>\n",
       "      <th>name</th>\n",
       "      <th>released_at</th>\n",
       "      <th>mana_cost</th>\n",
       "      <th>cmc</th>\n",
       "      <th>type_line</th>\n",
       "      <th>oracle_text</th>\n",
       "      <th>power</th>\n",
       "      <th>toughness</th>\n",
       "      <th>colors</th>\n",
       "      <th>color_identity</th>\n",
       "      <th>keywords</th>\n",
       "      <th>set</th>\n",
       "      <th>rarity</th>\n",
       "      <th>flavor_text</th>\n",
       "    </tr>\n",
       "  </thead>\n",
       "  <tbody>\n",
       "    <tr>\n",
       "      <th>0</th>\n",
       "      <td>Fury Sliver</td>\n",
       "      <td>2006-10-06</td>\n",
       "      <td>{5}{R}</td>\n",
       "      <td>6.0</td>\n",
       "      <td>Creature — Sliver</td>\n",
       "      <td>All Sliver creatures have double strike.</td>\n",
       "      <td>3</td>\n",
       "      <td>3</td>\n",
       "      <td>['R']</td>\n",
       "      <td>['R']</td>\n",
       "      <td>[]</td>\n",
       "      <td>tsp</td>\n",
       "      <td>uncommon</td>\n",
       "      <td>\"A rift opened, and our arrows were abruptly s...</td>\n",
       "    </tr>\n",
       "    <tr>\n",
       "      <th>1</th>\n",
       "      <td>Kor Outfitter</td>\n",
       "      <td>2009-10-02</td>\n",
       "      <td>{W}{W}</td>\n",
       "      <td>2.0</td>\n",
       "      <td>Creature — Kor Soldier</td>\n",
       "      <td>When Kor Outfitter enters the battlefield, you...</td>\n",
       "      <td>2</td>\n",
       "      <td>2</td>\n",
       "      <td>['W']</td>\n",
       "      <td>['W']</td>\n",
       "      <td>[]</td>\n",
       "      <td>zen</td>\n",
       "      <td>common</td>\n",
       "      <td>\"We take only what we need to survive. Believe...</td>\n",
       "    </tr>\n",
       "    <tr>\n",
       "      <th>2</th>\n",
       "      <td>Spirit</td>\n",
       "      <td>2015-05-22</td>\n",
       "      <td>NaN</td>\n",
       "      <td>0.0</td>\n",
       "      <td>Token Creature — Spirit</td>\n",
       "      <td>Flying</td>\n",
       "      <td>1</td>\n",
       "      <td>1</td>\n",
       "      <td>['W']</td>\n",
       "      <td>['W']</td>\n",
       "      <td>['Flying']</td>\n",
       "      <td>tmm2</td>\n",
       "      <td>common</td>\n",
       "      <td>NaN</td>\n",
       "    </tr>\n",
       "  </tbody>\n",
       "</table>\n",
       "</div>"
      ],
      "text/plain": [
       "            name released_at mana_cost  cmc                type_line  \\\n",
       "0    Fury Sliver  2006-10-06    {5}{R}  6.0        Creature — Sliver   \n",
       "1  Kor Outfitter  2009-10-02    {W}{W}  2.0   Creature — Kor Soldier   \n",
       "2         Spirit  2015-05-22       NaN  0.0  Token Creature — Spirit   \n",
       "\n",
       "                                         oracle_text power toughness colors  \\\n",
       "0           All Sliver creatures have double strike.     3         3  ['R']   \n",
       "1  When Kor Outfitter enters the battlefield, you...     2         2  ['W']   \n",
       "2                                             Flying     1         1  ['W']   \n",
       "\n",
       "  color_identity    keywords   set    rarity  \\\n",
       "0          ['R']          []   tsp  uncommon   \n",
       "1          ['W']          []   zen    common   \n",
       "2          ['W']  ['Flying']  tmm2    common   \n",
       "\n",
       "                                         flavor_text  \n",
       "0  \"A rift opened, and our arrows were abruptly s...  \n",
       "1  \"We take only what we need to survive. Believe...  \n",
       "2                                                NaN  "
      ]
     },
     "execution_count": 3,
     "metadata": {},
     "output_type": "execute_result"
    }
   ],
   "source": [
    "data.head(3)"
   ]
  },
  {
   "cell_type": "code",
   "execution_count": 4,
   "metadata": {},
   "outputs": [],
   "source": [
    "working = data.copy()"
   ]
  },
  {
   "cell_type": "code",
   "execution_count": 5,
   "metadata": {},
   "outputs": [],
   "source": [
    "unsets = ['ugl', 'und', 'ust', 'unh']\n",
    "indices = []"
   ]
  },
  {
   "cell_type": "code",
   "execution_count": 6,
   "metadata": {},
   "outputs": [],
   "source": [
    "for abb in unsets:\n",
    "    indices.append(data[data['set'] == abb].index)"
   ]
  },
  {
   "cell_type": "code",
   "execution_count": 7,
   "metadata": {},
   "outputs": [],
   "source": [
    "for unset in indices:\n",
    "    working.drop(index = unset, inplace = True)"
   ]
  },
  {
   "cell_type": "code",
   "execution_count": 8,
   "metadata": {},
   "outputs": [],
   "source": [
    "labels = working.pop('cmc')"
   ]
  },
  {
   "cell_type": "code",
   "execution_count": 9,
   "metadata": {},
   "outputs": [],
   "source": [
    "working.reset_index(drop = True, inplace = True)"
   ]
  },
  {
   "cell_type": "code",
   "execution_count": 10,
   "metadata": {},
   "outputs": [],
   "source": [
    "no_nas = working.fillna('').astype(str)"
   ]
  },
  {
   "cell_type": "code",
   "execution_count": 11,
   "metadata": {},
   "outputs": [],
   "source": [
    "X_train, X_test, y_train, y_test = tts(no_nas, labels)\n",
    "X_train, X_val, y_train, y_val = tts(X_train, y_train)"
   ]
  },
  {
   "cell_type": "code",
   "execution_count": 12,
   "metadata": {},
   "outputs": [
    {
     "data": {
      "text/plain": [
       "name              False\n",
       "released_at       False\n",
       "mana_cost         False\n",
       "type_line         False\n",
       "oracle_text       False\n",
       "power             False\n",
       "toughness         False\n",
       "colors            False\n",
       "color_identity    False\n",
       "keywords          False\n",
       "set               False\n",
       "rarity            False\n",
       "flavor_text       False\n",
       "dtype: bool"
      ]
     },
     "execution_count": 12,
     "metadata": {},
     "output_type": "execute_result"
    }
   ],
   "source": [
    "pd.isna(no_nas).any()"
   ]
  },
  {
   "cell_type": "code",
   "execution_count": 13,
   "metadata": {},
   "outputs": [
    {
     "data": {
      "text/plain": [
       "['Jagged Poppet',\n",
       " '2019-02-15',\n",
       " '{1}{B}{R}',\n",
       " 'Creature — Ogre Warrior',\n",
       " 'Whenever Jagged Poppet is dealt damage, discard that many cards.\\nHellbent — Whenever Jagged Poppet deals combat damage to a player, if you have no cards in hand, that player discards cards equal to the damage.',\n",
       " '3',\n",
       " '4',\n",
       " \"['B', 'R']\",\n",
       " \"['B', 'R']\",\n",
       " \"['Hellbent']\",\n",
       " 'gk2',\n",
       " 'uncommon',\n",
       " 'Few puppets are so willing.']"
      ]
     },
     "execution_count": 13,
     "metadata": {},
     "output_type": "execute_result"
    }
   ],
   "source": [
    "X_train.iloc[0].values.tolist()"
   ]
  },
  {
   "cell_type": "code",
   "execution_count": 14,
   "metadata": {},
   "outputs": [],
   "source": [
    "train_corpus = []\n",
    "for doc in X_train.values.tolist():\n",
    "    doc_list = []\n",
    "    for term in doc:\n",
    "        doc_list.append(term)\n",
    "    train_corpus.append(str(doc_list))"
   ]
  },
  {
   "cell_type": "code",
   "execution_count": 15,
   "metadata": {},
   "outputs": [],
   "source": [
    "test_corpus = []\n",
    "for row in X_test.values:\n",
    "    test_corpus.append(str(row.astype(str)))"
   ]
  },
  {
   "cell_type": "code",
   "execution_count": 16,
   "metadata": {},
   "outputs": [],
   "source": [
    "val_corpus = []\n",
    "for row in X_val.values:\n",
    "    val_corpus.append(str(row.astype(str)))"
   ]
  },
  {
   "cell_type": "code",
   "execution_count": 17,
   "metadata": {},
   "outputs": [
    {
     "data": {
      "text/plain": [
       "(str,\n",
       " '[\\'Jagged Poppet\\', \\'2019-02-15\\', \\'{1}{B}{R}\\', \\'Creature — Ogre Warrior\\', \\'Whenever Jagged Poppet is dealt damage, discard that many cards.\\\\nHellbent — Whenever Jagged Poppet deals combat damage to a player, if you have no cards in hand, that player discards cards equal to the damage.\\', \\'3\\', \\'4\\', \"[\\'B\\', \\'R\\']\", \"[\\'B\\', \\'R\\']\", \"[\\'Hellbent\\']\", \\'gk2\\', \\'uncommon\\', \\'Few puppets are so willing.\\']')"
      ]
     },
     "execution_count": 17,
     "metadata": {},
     "output_type": "execute_result"
    }
   ],
   "source": [
    "type(train_corpus[0]), train_corpus[0]"
   ]
  },
  {
   "cell_type": "code",
   "execution_count": 62,
   "metadata": {},
   "outputs": [],
   "source": [
    "tf_idfv = TfidfVectorizer(\n",
    "    strip_accents=None,\n",
    "    analyzer='word',\n",
    "    stop_words=None,\n",
    "    max_df=.95,\n",
    "    min_df=1,\n",
    "    max_features=1000,\n",
    "    norm='l2')"
   ]
  },
  {
   "cell_type": "code",
   "execution_count": 63,
   "metadata": {},
   "outputs": [],
   "source": [
    "pca = PCA(n_components = 500)"
   ]
  },
  {
   "cell_type": "code",
   "execution_count": 64,
   "metadata": {},
   "outputs": [],
   "source": [
    "count_mat_vec = tf_idfv.fit(train_corpus)"
   ]
  },
  {
   "cell_type": "code",
   "execution_count": 65,
   "metadata": {},
   "outputs": [],
   "source": [
    "#count_mat_vec.vocabulary_"
   ]
  },
  {
   "cell_type": "code",
   "execution_count": 66,
   "metadata": {},
   "outputs": [],
   "source": [
    "vocab = count_mat_vec.vocabulary_"
   ]
  },
  {
   "cell_type": "code",
   "execution_count": 67,
   "metadata": {},
   "outputs": [],
   "source": [
    "train_sparse = count_mat_vec.transform(train_corpus)"
   ]
  },
  {
   "cell_type": "code",
   "execution_count": 68,
   "metadata": {},
   "outputs": [],
   "source": [
    "dense = train_sparse.toarray()"
   ]
  },
  {
   "cell_type": "code",
   "execution_count": 69,
   "metadata": {},
   "outputs": [],
   "source": [
    "#dense.nonzero()"
   ]
  },
  {
   "cell_type": "code",
   "execution_count": 70,
   "metadata": {},
   "outputs": [],
   "source": [
    "val_sparse = count_mat_vec.transform(val_corpus)"
   ]
  },
  {
   "cell_type": "code",
   "execution_count": 71,
   "metadata": {},
   "outputs": [],
   "source": [
    "fitted_pca = pca.fit(dense)"
   ]
  },
  {
   "cell_type": "code",
   "execution_count": 72,
   "metadata": {},
   "outputs": [],
   "source": [
    "weights = fitted_pca.components_"
   ]
  },
  {
   "cell_type": "code",
   "execution_count": 73,
   "metadata": {},
   "outputs": [
    {
     "data": {
      "text/plain": [
       "(0.0214464281360957, 0.00042890488753943276)"
      ]
     },
     "execution_count": 73,
     "metadata": {},
     "output_type": "execute_result"
    }
   ],
   "source": [
    "fitted_pca.explained_variance_.max(), fitted_pca.explained_variance_.min()"
   ]
  },
  {
   "cell_type": "code",
   "execution_count": 74,
   "metadata": {},
   "outputs": [
    {
     "data": {
      "text/plain": [
       "<matplotlib.legend.Legend at 0x7f5be120fa10>"
      ]
     },
     "execution_count": 74,
     "metadata": {},
     "output_type": "execute_result"
    },
    {
     "data": {
      "image/png": "[encoded data removed]",
      "text/plain": [
       "<Figure size 576x432 with 1 Axes>"
      ]
     },
     "metadata": {
      "needs_background": "light"
     },
     "output_type": "display_data"
    }
   ],
   "source": [
    "total_var = np.sum(fitted_pca.explained_variance_)\n",
    "cum_var = np.cumsum(fitted_pca.explained_variance_)\n",
    "prop_var_expl = cum_var/total_var\n",
    "\n",
    "fig, ax = plt.subplots(figsize=(8,6))\n",
    "ax.plot(prop_var_expl, color='red', linewidth=2, label='Explained variance')\n",
    "ax.axhline(.9, label = '90% goal', linestyle='--', color='black', linewidth=1)\n",
    "ax.set_ylabel('cumulative prop. of explained variance')\n",
    "ax.set_xlabel('number of principal components')\n",
    "ax.legend()"
   ]
  },
  {
   "cell_type": "code",
   "execution_count": 75,
   "metadata": {},
   "outputs": [
    {
     "data": {
      "text/plain": [
       "[<matplotlib.lines.Line2D at 0x7f5be1f01e50>]"
      ]
     },
     "execution_count": 75,
     "metadata": {},
     "output_type": "execute_result"
    },
    {
     "data": {
      "image/png": "[encoded data removed]",
      "text/plain": [
       "<Figure size 432x288 with 1 Axes>"
      ]
     },
     "metadata": {
      "needs_background": "light"
     },
     "output_type": "display_data"
    }
   ],
   "source": [
    "plt.plot(fitted_pca.explained_variance_)"
   ]
  },
  {
   "cell_type": "code",
   "execution_count": null,
   "metadata": {},
   "outputs": [],
   "source": []
  }
 ],
 "metadata": {
  "kernelspec": {
   "display_name": "Python 3",
   "language": "python",
   "name": "python3"
  },
  "language_info": {
   "codemirror_mode": {
    "name": "ipython",
    "version": 3
   },
   "file_extension": ".py",
   "mimetype": "text/x-python",
   "name": "python",
   "nbconvert_exporter": "python",
   "pygments_lexer": "ipython3",
   "version": "3.7.9"
  }
 },
 "nbformat": 4,
 "nbformat_minor": 4
}
